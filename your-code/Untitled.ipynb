{
 "cells": [
  {
   "cell_type": "code",
   "execution_count": 2,
   "id": "ad5b7126-5fc4-4676-8476-105eebd22476",
   "metadata": {},
   "outputs": [],
   "source": [
    "# %load main.py\n",
    "#1. Import the NUMPY package under the name np.\n",
    "\n",
    "#[your code here]\n",
    "import pandas as pd\n",
    "import numpy as np"
   ]
  },
  {
   "cell_type": "code",
   "execution_count": 5,
   "id": "290c4b3d-d615-495a-8391-1a6463dd222f",
   "metadata": {},
   "outputs": [
    {
     "name": "stdout",
     "output_type": "stream",
     "text": [
      "NumPy version: 1.26.4\n",
      "\n",
      "NumPy configuration:\n",
      "Build Dependencies:\n",
      "  blas:\n",
      "    detection method: pkgconfig\n",
      "    found: true\n",
      "    include directory: C:/ironhack_downloads/Library/include\n",
      "    lib directory: C:/ironhack_downloads/Library/lib\n",
      "    name: mkl-sdl\n",
      "    openblas configuration: unknown\n",
      "    pc file directory: C:\\b\\abs_c1ywpu18ar\\croot\\numpy_and_numpy_base_1708638681471\\_h_env\\Library\\lib\\pkgconfig\n",
      "    version: '2023.1'\n",
      "  lapack:\n",
      "    detection method: internal\n",
      "    found: true\n",
      "    include directory: unknown\n",
      "    lib directory: unknown\n",
      "    name: dep1868282989520\n",
      "    openblas configuration: unknown\n",
      "    pc file directory: unknown\n",
      "    version: 1.26.4\n",
      "Compilers:\n",
      "  c:\n",
      "    commands: cl.exe\n",
      "    linker: link\n",
      "    name: msvc\n",
      "    version: 19.29.30154\n",
      "  c++:\n",
      "    commands: cl.exe\n",
      "    linker: link\n",
      "    name: msvc\n",
      "    version: 19.29.30154\n",
      "  cython:\n",
      "    commands: cython\n",
      "    linker: cython\n",
      "    name: cython\n",
      "    version: 3.0.8\n",
      "Machine Information:\n",
      "  build:\n",
      "    cpu: x86_64\n",
      "    endian: little\n",
      "    family: x86_64\n",
      "    system: windows\n",
      "  host:\n",
      "    cpu: x86_64\n",
      "    endian: little\n",
      "    family: x86_64\n",
      "    system: windows\n",
      "Python Information:\n",
      "  path: C:\\b\\abs_c1ywpu18ar\\croot\\numpy_and_numpy_base_1708638681471\\_h_env\\python.exe\n",
      "  version: '3.11'\n",
      "SIMD Extensions:\n",
      "  baseline:\n",
      "  - SSE\n",
      "  - SSE2\n",
      "  - SSE3\n",
      "  found:\n",
      "  - SSSE3\n",
      "  - SSE41\n",
      "  - POPCNT\n",
      "  - SSE42\n",
      "  - AVX\n",
      "  - F16C\n",
      "  - FMA3\n",
      "  - AVX2\n",
      "  not found:\n",
      "  - AVX512F\n",
      "  - AVX512CD\n",
      "  - AVX512_SKX\n",
      "  - AVX512_CLX\n",
      "  - AVX512_CNL\n",
      "  - AVX512_ICL\n",
      "\n",
      "None\n"
     ]
    }
   ],
   "source": [
    "#2. Print the NUMPY version and the configuration.\n",
    "\n",
    "#[your code here]\n",
    "print (\"NumPy version:\", np.__version__)\n",
    "\n",
    "print(\"\\nNumPy configuration:\")\n",
    "print(np.show_config())\n"
   ]
  },
  {
   "cell_type": "code",
   "execution_count": 11,
   "id": "9df6ba0f-891b-4a6d-b235-f393bfd55cc7",
   "metadata": {},
   "outputs": [],
   "source": [
    "#3. Generate a 2x3x5 3-dimensional array with random values. Assign the array to variable \"a\"\n",
    "# Challenge: there are at least three easy ways that use numpy to generate random arrays. How many ways can you find?\n",
    "\n",
    "#[your code here]\n",
    "a = np.random.random((2,3,5))\n"
   ]
  },
  {
   "cell_type": "code",
   "execution_count": 13,
   "id": "21e82d11-70b5-4617-a500-d298c0abdac6",
   "metadata": {},
   "outputs": [
    {
     "name": "stdout",
     "output_type": "stream",
     "text": [
      "[[[0.80664194 0.37307938 0.64891135 0.03791025 0.23915509]\n",
      "  [0.44624636 0.373316   0.39774432 0.62658184 0.19010291]\n",
      "  [0.41594506 0.65528785 0.29061383 0.89155038 0.79366961]]\n",
      "\n",
      " [[0.68787321 0.7034851  0.46285966 0.72267187 0.02078494]\n",
      "  [0.02160347 0.68502501 0.89598216 0.46567991 0.79378737]\n",
      "  [0.47994837 0.71841494 0.92288482 0.21465923 0.29847379]]]\n"
     ]
    }
   ],
   "source": [
    "#4. Print a.\n",
    "\n",
    "#[your code here]\n",
    "print (a)"
   ]
  },
  {
   "cell_type": "code",
   "execution_count": 19,
   "id": "f40d024b-8c5d-4a21-a038-0b712a3452e9",
   "metadata": {},
   "outputs": [],
   "source": [
    "#5. Create a 5x2x3 3-dimensional array with all values equaling 1.\n",
    "#Assign the array to variable \"b\"\n",
    "\n",
    "#[your code here]\n",
    "b = np.ones((5,2,3))"
   ]
  },
  {
   "cell_type": "code",
   "execution_count": 15,
   "id": "976a7caa-9f27-4af5-8991-0f6447a1124e",
   "metadata": {},
   "outputs": [
    {
     "name": "stdout",
     "output_type": "stream",
     "text": [
      "[[[1. 1. 1.]\n",
      "  [1. 1. 1.]]\n",
      "\n",
      " [[1. 1. 1.]\n",
      "  [1. 1. 1.]]\n",
      "\n",
      " [[1. 1. 1.]\n",
      "  [1. 1. 1.]]\n",
      "\n",
      " [[1. 1. 1.]\n",
      "  [1. 1. 1.]]\n",
      "\n",
      " [[1. 1. 1.]\n",
      "  [1. 1. 1.]]]\n"
     ]
    }
   ],
   "source": [
    "#6. Print b.\n",
    "\n",
    "#[your code here]\n",
    "print (b)"
   ]
  },
  {
   "cell_type": "code",
   "execution_count": 16,
   "id": "21a36c34-5fe6-4888-8ec5-974841b71652",
   "metadata": {},
   "outputs": [
    {
     "name": "stdout",
     "output_type": "stream",
     "text": [
      "a and b have the are the same size\n"
     ]
    }
   ],
   "source": [
    "#7. Do a and b have the same size? How do you prove that in Python code?\n",
    "\n",
    "#[your code here]\n",
    "if a.size ==b.size:\n",
    "    print(\"a and b have the are the same size\")\n",
    "else:\n",
    "    print(\"a and b are not the same size\")"
   ]
  },
  {
   "cell_type": "code",
   "execution_count": 17,
   "id": "52353950-1d14-4adc-8b23-2ce33a9add2c",
   "metadata": {},
   "outputs": [
    {
     "ename": "ValueError",
     "evalue": "operands could not be broadcast together with shapes (2,3,5) (5,2,3) ",
     "output_type": "error",
     "traceback": [
      "\u001b[1;31m---------------------------------------------------------------------------\u001b[0m",
      "\u001b[1;31mValueError\u001b[0m                                Traceback (most recent call last)",
      "Cell \u001b[1;32mIn[17], line 4\u001b[0m\n\u001b[0;32m      1\u001b[0m \u001b[38;5;66;03m#8. Are you able to add a and b? Why or why not?\u001b[39;00m\n\u001b[0;32m      2\u001b[0m \n\u001b[0;32m      3\u001b[0m \u001b[38;5;66;03m#[your code here]\u001b[39;00m\n\u001b[1;32m----> 4\u001b[0m result \u001b[38;5;241m=\u001b[39m a \u001b[38;5;241m+\u001b[39m b\n\u001b[0;32m      6\u001b[0m \u001b[38;5;28mprint\u001b[39m(result)\n",
      "\u001b[1;31mValueError\u001b[0m: operands could not be broadcast together with shapes (2,3,5) (5,2,3) "
     ]
    }
   ],
   "source": [
    "#8. Are you able to add a and b? Why or why not?\n",
    "\n",
    "#[your code here]\n",
    "result = a + b\n",
    "\n",
    "print(result)\n",
    "\n",
    "#They are different shapes so they cannot be added\n"
   ]
  },
  {
   "cell_type": "code",
   "execution_count": 34,
   "id": "d8808fe0-c802-40a1-a4a4-5aa732465563",
   "metadata": {},
   "outputs": [
    {
     "name": "stdout",
     "output_type": "stream",
     "text": [
      "[[[1. 1. 1. 1. 1.]\n",
      "  [1. 1. 1. 1. 1.]\n",
      "  [1. 1. 1. 1. 1.]]\n",
      "\n",
      " [[1. 1. 1. 1. 1.]\n",
      "  [1. 1. 1. 1. 1.]\n",
      "  [1. 1. 1. 1. 1.]]]\n"
     ]
    }
   ],
   "source": [
    "#9. Transpose b so that it has the same structure of a (i.e. become a 2x3x5 array). Assign the transposed array to varialbe \"c\".\n",
    "\n",
    "#[your code here]\n",
    "c = np.transpose(b, (1,2,0))\n",
    "print(c)"
   ]
  },
  {
   "cell_type": "code",
   "execution_count": 24,
   "id": "a691129c-a60e-4619-901b-125b2405d500",
   "metadata": {},
   "outputs": [
    {
     "name": "stdout",
     "output_type": "stream",
     "text": [
      "[[[1.80664194 1.37307938 1.64891135 1.03791025 1.23915509]\n",
      "  [1.44624636 1.373316   1.39774432 1.62658184 1.19010291]\n",
      "  [1.41594506 1.65528785 1.29061383 1.89155038 1.79366961]]\n",
      "\n",
      " [[1.68787321 1.7034851  1.46285966 1.72267187 1.02078494]\n",
      "  [1.02160347 1.68502501 1.89598216 1.46567991 1.79378737]\n",
      "  [1.47994837 1.71841494 1.92288482 1.21465923 1.29847379]]]\n"
     ]
    }
   ],
   "source": [
    "#10. Try to add a and c. Now it should work. Assign the sum to varialbe \"d\". But why does it work now?\n",
    "\n",
    "#[your code here]\n",
    "d= a+c\n",
    "print(d)\n",
    "#it works as they are now the same shape"
   ]
  },
  {
   "cell_type": "code",
   "execution_count": 27,
   "id": "1a1b8c46-b6f6-46e7-a19f-e1fd2b1283cb",
   "metadata": {},
   "outputs": [
    {
     "name": "stdout",
     "output_type": "stream",
     "text": [
      "[[[0.80664194 0.37307938 0.64891135 0.03791025 0.23915509]\n",
      "  [0.44624636 0.373316   0.39774432 0.62658184 0.19010291]\n",
      "  [0.41594506 0.65528785 0.29061383 0.89155038 0.79366961]]\n",
      "\n",
      " [[0.68787321 0.7034851  0.46285966 0.72267187 0.02078494]\n",
      "  [0.02160347 0.68502501 0.89598216 0.46567991 0.79378737]\n",
      "  [0.47994837 0.71841494 0.92288482 0.21465923 0.29847379]]]\n",
      "----\n",
      "[[[1.80664194 1.37307938 1.64891135 1.03791025 1.23915509]\n",
      "  [1.44624636 1.373316   1.39774432 1.62658184 1.19010291]\n",
      "  [1.41594506 1.65528785 1.29061383 1.89155038 1.79366961]]\n",
      "\n",
      " [[1.68787321 1.7034851  1.46285966 1.72267187 1.02078494]\n",
      "  [1.02160347 1.68502501 1.89598216 1.46567991 1.79378737]\n",
      "  [1.47994837 1.71841494 1.92288482 1.21465923 1.29847379]]]\n"
     ]
    }
   ],
   "source": [
    "#11. Print a and d. Notice the difference and relation of the two array in terms of the values? Explain.\n",
    "\n",
    "#[your code here]\n",
    "print (a)\n",
    "print(\"----\")\n",
    "print (d)\n",
    "\n",
    "#d also contains the sum of c, which is all 1 larger as c was all ones"
   ]
  },
  {
   "cell_type": "code",
   "execution_count": 28,
   "id": "48540372-aab9-466b-ae22-e0757be946d6",
   "metadata": {},
   "outputs": [],
   "source": [
    "#12. Multiply a and c. Assign the result to e.\n",
    "\n",
    "#[your code here]\n",
    "e = a*c"
   ]
  },
  {
   "cell_type": "code",
   "execution_count": 33,
   "id": "fe608a04-7826-4730-bf26-cd24e3386357",
   "metadata": {},
   "outputs": [
    {
     "name": "stdout",
     "output_type": "stream",
     "text": [
      "e and a are not the same size\n"
     ]
    }
   ],
   "source": [
    "#13. Does e equal to a? Why or why not?\n",
    "\n",
    "#[your code here]\n",
    "if e.all==a.all:\n",
    "    print(\"e and a have the are equal\")\n",
    "else:\n",
    "    print(\"e and a are not the equal\")\n",
    "\n",
    "#not equal because "
   ]
  },
  {
   "cell_type": "code",
   "execution_count": 35,
   "id": "e9de7cc1-5d13-461d-aabb-66a5f0c4d113",
   "metadata": {},
   "outputs": [],
   "source": [
    "#14. Identify the max, min, and mean values in d. Assign those values to variables \"d_max\", \"d_min\", and \"d_mean\"\n",
    "\n",
    "#[your code here]\n",
    "d_max = np.max(d)\n",
    "d_min = np.min(d)\n",
    "d_mean = np.mean(d)"
   ]
  },
  {
   "cell_type": "code",
   "execution_count": 36,
   "id": "63952fcf-a1e9-4191-ae24-c6ad7a8fa018",
   "metadata": {},
   "outputs": [
    {
     "name": "stdout",
     "output_type": "stream",
     "text": [
      "[[[1.80664194 1.37307938 1.64891135 1.03791025 1.23915509]\n",
      "  [1.44624636 1.373316   1.39774432 1.62658184 1.19010291]\n",
      "  [1.41594506 1.65528785 1.29061383 1.89155038 1.79366961]]\n",
      "\n",
      " [[1.68787321 1.7034851  1.46285966 1.72267187 1.02078494]\n",
      "  [1.02160347 1.68502501 1.89598216 1.46567991 1.79378737]\n",
      "  [1.47994837 1.71841494 1.92288482 1.21465923 1.29847379]]]\n",
      "[[[1.80664194 1.37307938 1.64891135 1.03791025 1.23915509]\n",
      "  [1.44624636 1.373316   1.39774432 1.62658184 1.19010291]\n",
      "  [1.41594506 1.65528785 1.29061383 1.89155038 1.79366961]]\n",
      "\n",
      " [[1.68787321 1.7034851  1.46285966 1.72267187 1.02078494]\n",
      "  [1.02160347 1.68502501 1.89598216 1.46567991 1.79378737]\n",
      "  [1.47994837 1.71841494 1.92288482 1.21465923 1.29847379]]]\n"
     ]
    }
   ],
   "source": [
    "#15. Now we want to label the values in d. First create an empty array \"f\" with the same shape (i.e. 2x3x5) as d using `np.empty`.\n",
    "\n",
    "#[your code here]\n",
    "f=np.empty_like(d)\n",
    "print(f)\n",
    "print(d)"
   ]
  },
  {
   "cell_type": "code",
   "execution_count": null,
   "id": "df068fb5-d2ce-47ff-aac3-1e3b3f15a3ef",
   "metadata": {},
   "outputs": [],
   "source": [
    "\"\"\"\n",
    "#16. Populate the values in f. For each value in d, if it's larger than d_min but smaller than d_mean, assign 25 to the corresponding value in f.\n",
    "If a value in d is larger than d_mean but smaller than d_max, assign 75 to the corresponding value in f.\n",
    "If a value equals to d_mean, assign 50 to the corresponding value in f.\n",
    "Assign 0 to the corresponding value(s) in f for d_min in d.\n",
    "Assign 100 to the corresponding value(s) in f for d_max in d.\n",
    "In the end, f should have only the following values: 0, 25, 50, 75, and 100.\n",
    "Note: you don't have to use Numpy in this question.\n",
    "\"\"\"\n",
    "\"\"\"\n",
    "#17. Print d and f. Do you have your expected f?\n",
    "For instance, if your d is:\n",
    "array([[[1.85836099, 1.67064465, 1.62576044, 1.40243961, 1.88454931],\n",
    "        [1.75354326, 1.69403643, 1.36729252, 1.61415071, 1.12104981],\n",
    "        [1.72201435, 1.1862918 , 1.87078449, 1.7726778 , 1.88180042]],\n",
    "\n",
    "       [[1.44747908, 1.31673383, 1.02000951, 1.52218947, 1.97066381],\n",
    "        [1.79129243, 1.74983003, 1.96028037, 1.85166831, 1.65450881],\n",
    "        [1.18068344, 1.9587381 , 1.00656599, 1.93402165, 1.73514584]]])\n",
    "\n",
    "Your f should be:\n",
    "array([[[ 75.,  75.,  75.,  25.,  75.],\n",
    "        [ 75.,  75.,  25.,  25.,  25.],\n",
    "        [ 75.,  25.,  75.,  75.,  75.]],\n",
    "\n",
    "       [[ 25.,  25.,  25.,  25., 100.],\n",
    "        [ 75.,  75.,  75.,  75.,  75.],\n",
    "        [ 25.,  75.,   0.,  75.,  75.]]])\n",
    "\"\"\"\n",
    "\n",
    "#[your code here]\n"
   ]
  }
 ],
 "metadata": {
  "kernelspec": {
   "display_name": "Python 3 (ipykernel)",
   "language": "python",
   "name": "python3"
  },
  "language_info": {
   "codemirror_mode": {
    "name": "ipython",
    "version": 3
   },
   "file_extension": ".py",
   "mimetype": "text/x-python",
   "name": "python",
   "nbconvert_exporter": "python",
   "pygments_lexer": "ipython3",
   "version": "3.11.7"
  }
 },
 "nbformat": 4,
 "nbformat_minor": 5
}
